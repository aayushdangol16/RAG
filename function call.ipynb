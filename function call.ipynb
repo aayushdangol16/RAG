{
 "cells": [
  {
   "cell_type": "code",
   "execution_count": 5,
   "metadata": {},
   "outputs": [],
   "source": [
    "from langchain_experimental.llms.ollama_functions import OllamaFunctions\n",
    "\n",
    "model = OllamaFunctions(\n",
    "    model=\"llama3.2\", \n",
    "    format=\"json\"\n",
    "    )"
   ]
  },
  {
   "cell_type": "code",
   "execution_count": 10,
   "metadata": {},
   "outputs": [],
   "source": [
    "from langchain_experimental.llms.ollama_functions import OllamaFunctions\n",
    "\n",
    "model = OllamaFunctions(\n",
    "    model=\"llama3.2\", \n",
    "    format=\"json\"\n",
    "    )\n",
    "\n",
    "from langchain_core.tools import tool\n",
    "\n",
    "@tool\n",
    "def add(a, b):\n",
    "    \"\"\"\n",
    "    Add two numbers.\n",
    "    \n",
    "    Args:\n",
    "        a (int or float): First number to add.\n",
    "        b (int or float): Second number to add.\n",
    "    \n",
    "    Returns:\n",
    "        int or float: The sum of a and b.\n",
    "    \"\"\"\n",
    "    return a + b\n",
    "\n",
    "@tool\n",
    "def multiply(a, b):\n",
    "    \"\"\"\n",
    "    Multiply two numbers.\n",
    "    \n",
    "    Args:\n",
    "        a (int or float): First number to multiply.\n",
    "        b (int or float): Second number to multiply.\n",
    "    \n",
    "    Returns:\n",
    "        int or float: The product of a and b.\n",
    "    \"\"\"\n",
    "    return a * b\n",
    "\n",
    "tools = [add, multiply]\n"
   ]
  },
  {
   "cell_type": "code",
   "execution_count": 11,
   "metadata": {},
   "outputs": [],
   "source": [
    "model_with_tools = model.bind_tools(tools) "
   ]
  },
  {
   "cell_type": "code",
   "execution_count": 12,
   "metadata": {},
   "outputs": [
    {
     "data": {
      "text/plain": [
       "{'a': 2, 'b': 2}"
      ]
     },
     "execution_count": 12,
     "metadata": {},
     "output_type": "execute_result"
    }
   ],
   "source": [
    "query = \"What is 2 * 2.\"\n",
    "\n",
    "ai_msg=model_with_tools.invoke(query)\n",
    "ai_msg.tool_calls[0]['args']"
   ]
  },
  {
   "cell_type": "code",
   "execution_count": 13,
   "metadata": {},
   "outputs": [
    {
     "data": {
      "text/plain": [
       "[{'name': 'multiply',\n",
       "  'args': {'a': 5, 'b': 100},\n",
       "  'id': 'call_054202072553481d8b5c68c1f468dfea',\n",
       "  'type': 'tool_call'}]"
      ]
     },
     "execution_count": 13,
     "metadata": {},
     "output_type": "execute_result"
    }
   ],
   "source": [
    "query = \"What is 5 * 100.\"\n",
    "\n",
    "model_with_tools.invoke(query).tool_calls"
   ]
  },
  {
   "cell_type": "code",
   "execution_count": 23,
   "metadata": {},
   "outputs": [],
   "source": [
    "# from langchain_core.pydantic_v1 import BaseModel, Field\n",
    "# import json\n",
    "# from langchain.tools import Tool\n"
   ]
  },
  {
   "cell_type": "code",
   "execution_count": 24,
   "metadata": {},
   "outputs": [],
   "source": [
    "# class Task(BaseModel):\n",
    "#     \"\"\"Task details.\"\"\"\n",
    "#     name: str = Field(description=\"The name of the task.\")\n",
    "#     priority: str = Field(description=\"The priority level (e.g., High, Medium, Low).\")\n",
    "#     due_date: str = Field(description=\"The due date for the task.\")\n"
   ]
  },
  {
   "cell_type": "code",
   "execution_count": 25,
   "metadata": {},
   "outputs": [],
   "source": [
    "# class TaskSummary(BaseModel):\n",
    "#     \"\"\"Summary of tasks based on attributes.\"\"\"\n",
    "#     filter_by: str = Field(description=\"The attribute to filter tasks by (e.g., priority, category).\")\n",
    "#     value: str = Field(description=\"The value to match for the specified filter.\")\n"
   ]
  },
  {
   "cell_type": "code",
   "execution_count": 26,
   "metadata": {},
   "outputs": [],
   "source": [
    "# # Bind the models (tools) directly to the language model\n",
    "# model_with_tools = model.bind_tools([Task, TaskSummary])"
   ]
  },
  {
   "cell_type": "code",
   "execution_count": 27,
   "metadata": {},
   "outputs": [],
   "source": [
    "# # Invoke the model for adding a task\n",
    "# query_add_task = \"Add a high-priority task to complete the report by tomorrow.\"\n",
    "# response_add_task = model_with_tools.invoke(query_add_task)"
   ]
  },
  {
   "cell_type": "code",
   "execution_count": 29,
   "metadata": {},
   "outputs": [],
   "source": [
    "# # Print the result\n",
    "# if response_add_task.tool_calls:\n",
    "#     print(\"Add Task Response:\", response_add_task.tool_calls[0][\"args\"])"
   ]
  },
  {
   "cell_type": "code",
   "execution_count": 30,
   "metadata": {},
   "outputs": [],
   "source": [
    "# # Invoke the model for summarizing tasks\n",
    "# query_task_summary = \"Summarize all tasks with high priority.\"\n",
    "# response_task_summary = model_with_tools.invoke(query_task_summary)"
   ]
  },
  {
   "cell_type": "code",
   "execution_count": 28,
   "metadata": {},
   "outputs": [],
   "source": [
    "# # Print the result\n",
    "# if response_task_summary.tool_calls:\n",
    "#     print(\"Task Summary Response:\", response_task_summary.tool_calls[0][\"args\"])\n"
   ]
  },
  {
   "cell_type": "code",
   "execution_count": null,
   "metadata": {},
   "outputs": [],
   "source": []
  },
  {
   "cell_type": "code",
   "execution_count": null,
   "metadata": {},
   "outputs": [],
   "source": []
  }
 ],
 "metadata": {
  "kernelspec": {
   "display_name": "venv",
   "language": "python",
   "name": "python3"
  },
  "language_info": {
   "codemirror_mode": {
    "name": "ipython",
    "version": 3
   },
   "file_extension": ".py",
   "mimetype": "text/x-python",
   "name": "python",
   "nbconvert_exporter": "python",
   "pygments_lexer": "ipython3",
   "version": "3.12.1"
  }
 },
 "nbformat": 4,
 "nbformat_minor": 2
}
